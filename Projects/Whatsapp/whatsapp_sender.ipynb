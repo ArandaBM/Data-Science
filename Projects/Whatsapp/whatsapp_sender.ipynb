{
 "cells": [
  {
   "cell_type": "code",
   "execution_count": 4,
   "source": [
    "# !pip3 install pywhatkit\r\n",
    "import pandas as pd"
   ],
   "outputs": [],
   "metadata": {}
  },
  {
   "cell_type": "code",
   "execution_count": 7,
   "source": [
    "pd.read_csv(r'C:\\Users\\bruno\\Downloads\\exemplo - Página1.csv')\r\n",
    "pd.read_excel(r'C:\\Users\\bruno\\Downloads\\exemplo.xlsx')"
   ],
   "outputs": [
    {
     "output_type": "execute_result",
     "data": {
      "text/plain": [
       "              nome     telefone\n",
       "0     Bruno Aranda  18999999999\n",
       "1  Jorginho do Gás  61707070707"
      ],
      "text/html": [
       "<div>\n",
       "<style scoped>\n",
       "    .dataframe tbody tr th:only-of-type {\n",
       "        vertical-align: middle;\n",
       "    }\n",
       "\n",
       "    .dataframe tbody tr th {\n",
       "        vertical-align: top;\n",
       "    }\n",
       "\n",
       "    .dataframe thead th {\n",
       "        text-align: right;\n",
       "    }\n",
       "</style>\n",
       "<table border=\"1\" class=\"dataframe\">\n",
       "  <thead>\n",
       "    <tr style=\"text-align: right;\">\n",
       "      <th></th>\n",
       "      <th>nome</th>\n",
       "      <th>telefone</th>\n",
       "    </tr>\n",
       "  </thead>\n",
       "  <tbody>\n",
       "    <tr>\n",
       "      <th>0</th>\n",
       "      <td>Bruno Aranda</td>\n",
       "      <td>18999999999</td>\n",
       "    </tr>\n",
       "    <tr>\n",
       "      <th>1</th>\n",
       "      <td>Jorginho do Gás</td>\n",
       "      <td>61707070707</td>\n",
       "    </tr>\n",
       "  </tbody>\n",
       "</table>\n",
       "</div>"
      ]
     },
     "metadata": {},
     "execution_count": 7
    }
   ],
   "metadata": {}
  },
  {
   "cell_type": "code",
   "execution_count": 2,
   "source": [
    "import pywhatkit as pwk\r\n",
    "texto_divulgacao = '*NÃO SEJA UM MANÉ!*❤️ SEJA UM VENDEDOR DA FORTCAP! ❤️Essa é sua oportunidade de fazer uma graninha extra e tirar seus sonhos do papel!🤑 Para mais dicas de como ser um bom vendedor, assista o vídeo de nosso representante em: https://youtu.be/cXvzWCBJoRw 🤝'\r\n",
    "pwk.sendwhats_image(phone_no='+5518997993636',\r\n",
    "                    img_path=r'C:\\Users\\bruno\\Documents\\Data Science\\Projetos Pessoais\\Whatsapp\\Imagens\\WhatsApp Image 2021-07-20 at 14.34.10.jpeg',\r\n",
    "                    caption=texto_divulgacao,wait_time=2,tab_close=True)"
   ],
   "outputs": [
    {
     "output_type": "error",
     "ename": "CountryCodeException",
     "evalue": "Please provide country code!",
     "traceback": [
      "\u001b[1;31m---------------------------------------------------------------------------\u001b[0m",
      "\u001b[1;31mCountryCodeException\u001b[0m                      Traceback (most recent call last)",
      "\u001b[1;32m<ipython-input-2-3709edbe32c4>\u001b[0m in \u001b[0;36m<module>\u001b[1;34m\u001b[0m\n\u001b[0;32m      1\u001b[0m \u001b[1;32mimport\u001b[0m \u001b[0mpywhatkit\u001b[0m \u001b[1;32mas\u001b[0m \u001b[0mpwk\u001b[0m\u001b[1;33m\u001b[0m\u001b[1;33m\u001b[0m\u001b[0m\n\u001b[0;32m      2\u001b[0m \u001b[0mtexto_divulgacao\u001b[0m \u001b[1;33m=\u001b[0m \u001b[1;34m'*NÃO SEJA UM MANÉ!*❤️ SEJA UM VENDEDOR DA FORTCAP! ❤️Essa é sua oportunidade de fazer uma graninha extra e tirar seus sonhos do papel!🤑 Para mais dicas de como ser um bom vendedor, assista o vídeo de nosso representante em: https://youtu.be/cXvzWCBJoRw 🤝'\u001b[0m\u001b[1;33m\u001b[0m\u001b[1;33m\u001b[0m\u001b[0m\n\u001b[1;32m----> 3\u001b[1;33m pwk.sendwhats_image(phone_no='18997993636',\n\u001b[0m\u001b[0;32m      4\u001b[0m                     \u001b[0mimg_path\u001b[0m\u001b[1;33m=\u001b[0m\u001b[1;34mr'C:\\Users\\bruno\\Documents\\Data Science\\Projetos Pessoais\\Whatsapp\\Imagens\\WhatsApp Image 2021-07-20 at 14.34.10.jpeg'\u001b[0m\u001b[1;33m,\u001b[0m\u001b[1;33m\u001b[0m\u001b[1;33m\u001b[0m\u001b[0m\n\u001b[0;32m      5\u001b[0m                     caption=texto_divulgacao,wait_time=2,tab_close=True)\n",
      "\u001b[1;32m~\\anaconda3\\lib\\site-packages\\pywhatkit\\main.py\u001b[0m in \u001b[0;36msendwhats_image\u001b[1;34m(phone_no, img_path, caption, wait_time, tab_close, close_time)\u001b[0m\n\u001b[0;32m    183\u001b[0m \u001b[1;33m\u001b[0m\u001b[0m\n\u001b[0;32m    184\u001b[0m     \u001b[1;32mif\u001b[0m \u001b[1;34m'+'\u001b[0m \u001b[1;32mnot\u001b[0m \u001b[1;32min\u001b[0m \u001b[0mphone_no\u001b[0m\u001b[1;33m:\u001b[0m\u001b[1;33m\u001b[0m\u001b[1;33m\u001b[0m\u001b[0m\n\u001b[1;32m--> 185\u001b[1;33m         \u001b[1;32mraise\u001b[0m \u001b[0mCountryCodeException\u001b[0m\u001b[1;33m(\u001b[0m\u001b[1;34m\"Please provide country code!\"\u001b[0m\u001b[1;33m)\u001b[0m\u001b[1;33m\u001b[0m\u001b[1;33m\u001b[0m\u001b[0m\n\u001b[0m\u001b[0;32m    186\u001b[0m \u001b[1;33m\u001b[0m\u001b[0m\n\u001b[0;32m    187\u001b[0m     web.open('https://web.whatsapp.com/send?phone=' +\n",
      "\u001b[1;31mCountryCodeException\u001b[0m: Please provide country code!"
     ]
    }
   ],
   "metadata": {}
  },
  {
   "cell_type": "code",
   "execution_count": 1,
   "source": [
    "# !pip install streamlit\r\n",
    "import streamlit as st\r\n",
    "\r\n",
    "x = st.slider('Select a value')\r\n",
    "st.write(x, 'squared is', x * x)\r\n"
   ],
   "outputs": [
    {
     "output_type": "stream",
     "name": "stderr",
     "text": [
      "2021-08-09 08:34:33.897 WARNING root: \n",
      "  \u001b[33m\u001b[1mWarning:\u001b[0m to view this Streamlit app on a browser, run it with the following\n",
      "  command:\n",
      "\n",
      "    streamlit run C:\\Users\\bruno\\anaconda3\\lib\\site-packages\\ipykernel_launcher.py [ARGUMENTS]\n"
     ]
    }
   ],
   "metadata": {}
  },
  {
   "cell_type": "code",
   "execution_count": 3,
   "source": [
    "string = 'asdasd'\r\n",
    "teste = string + 'adenilson'"
   ],
   "outputs": [],
   "metadata": {}
  },
  {
   "cell_type": "code",
   "execution_count": 4,
   "source": [
    "teste"
   ],
   "outputs": [
    {
     "output_type": "execute_result",
     "data": {
      "text/plain": [
       "'asdasdadenilson'"
      ]
     },
     "metadata": {},
     "execution_count": 4
    }
   ],
   "metadata": {}
  },
  {
   "cell_type": "code",
   "execution_count": 5,
   "source": [
    "string = f'{teste}'"
   ],
   "outputs": [],
   "metadata": {}
  },
  {
   "cell_type": "code",
   "execution_count": 6,
   "source": [
    "string"
   ],
   "outputs": [
    {
     "output_type": "execute_result",
     "data": {
      "text/plain": [
       "'asdasdadenilson'"
      ]
     },
     "metadata": {},
     "execution_count": 6
    }
   ],
   "metadata": {}
  },
  {
   "cell_type": "code",
   "execution_count": null,
   "source": [
    "teste"
   ],
   "outputs": [],
   "metadata": {}
  }
 ],
 "metadata": {
  "orig_nbformat": 4,
  "language_info": {
   "name": "python",
   "version": "3.8.5",
   "mimetype": "text/x-python",
   "codemirror_mode": {
    "name": "ipython",
    "version": 3
   },
   "pygments_lexer": "ipython3",
   "nbconvert_exporter": "python",
   "file_extension": ".py"
  },
  "kernelspec": {
   "name": "python3",
   "display_name": "Python 3.8.5 64-bit ('base': conda)"
  },
  "interpreter": {
   "hash": "66d7c0815ee3ec39f8a25542b36e8def4dce34ad6588e623c666e441b334d01c"
  }
 },
 "nbformat": 4,
 "nbformat_minor": 2
}