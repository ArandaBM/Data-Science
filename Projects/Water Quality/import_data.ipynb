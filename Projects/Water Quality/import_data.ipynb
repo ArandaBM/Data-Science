{
 "metadata": {
  "language_info": {
   "codemirror_mode": {
    "name": "ipython",
    "version": 3
   },
   "file_extension": ".py",
   "mimetype": "text/x-python",
   "name": "python",
   "nbconvert_exporter": "python",
   "pygments_lexer": "ipython3",
   "version": "3.8.8"
  },
  "orig_nbformat": 2,
  "kernelspec": {
   "name": "python388jvsc74a57bd07a9952cf55322e7d021621ca5ea577ae6ddbccc55655895e85d81c07ada864af",
   "display_name": "Python 3.8.8 64-bit ('base': conda)"
  }
 },
 "nbformat": 4,
 "nbformat_minor": 2,
 "cells": [
  {
   "cell_type": "code",
   "execution_count": 1,
   "metadata": {},
   "outputs": [
    {
     "output_type": "stream",
     "name": "stdout",
     "text": [
      "Requirement already satisfied: opendatasets in /home/baranda/anaconda3/lib/python3.8/site-packages (0.1.20)\nRequirement already satisfied: click in /home/baranda/anaconda3/lib/python3.8/site-packages (from opendatasets) (7.1.2)\nRequirement already satisfied: tqdm in /home/baranda/anaconda3/lib/python3.8/site-packages (from opendatasets) (4.59.0)\nRequirement already satisfied: kaggle in /home/baranda/anaconda3/lib/python3.8/site-packages (from opendatasets) (1.5.12)\nRequirement already satisfied: python-dateutil in /home/baranda/anaconda3/lib/python3.8/site-packages (from kaggle->opendatasets) (2.8.1)\nRequirement already satisfied: python-slugify in /home/baranda/anaconda3/lib/python3.8/site-packages (from kaggle->opendatasets) (4.0.1)\nRequirement already satisfied: certifi in /home/baranda/anaconda3/lib/python3.8/site-packages (from kaggle->opendatasets) (2020.12.5)\nRequirement already satisfied: requests in /home/baranda/anaconda3/lib/python3.8/site-packages (from kaggle->opendatasets) (2.25.1)\nRequirement already satisfied: urllib3 in /home/baranda/anaconda3/lib/python3.8/site-packages (from kaggle->opendatasets) (1.26.4)\nRequirement already satisfied: six>=1.10 in /home/baranda/anaconda3/lib/python3.8/site-packages (from kaggle->opendatasets) (1.15.0)\nRequirement already satisfied: text-unidecode>=1.3 in /home/baranda/anaconda3/lib/python3.8/site-packages (from python-slugify->kaggle->opendatasets) (1.3)\nRequirement already satisfied: idna<3,>=2.5 in /home/baranda/anaconda3/lib/python3.8/site-packages (from requests->kaggle->opendatasets) (2.10)\nRequirement already satisfied: chardet<5,>=3.0.2 in /home/baranda/anaconda3/lib/python3.8/site-packages (from requests->kaggle->opendatasets) (4.0.0)\n"
     ]
    }
   ],
   "source": [
    "!pip install opendatasets"
   ]
  },
  {
   "cell_type": "code",
   "execution_count": 1,
   "metadata": {},
   "outputs": [
    {
     "output_type": "stream",
     "name": "stdout",
     "text": [
      "Please provide your Kaggle credentials to download this dataset. Learn more: http://bit.ly/kaggle-creds\n",
      "100%|██████████| 251k/251k [00:00<00:00, 5.43MB/s]Downloading water-potability.zip to ./water-potability\n",
      "\n",
      "\n"
     ]
    }
   ],
   "source": [
    "import opendatasets as od\n",
    "od.download(\"https://www.kaggle.com/adityakadiwal/water-potability/download\")"
   ]
  },
  {
   "cell_type": "code",
   "execution_count": null,
   "metadata": {},
   "outputs": [],
   "source": []
  }
 ]
}